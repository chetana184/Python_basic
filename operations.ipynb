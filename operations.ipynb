{
 "cells": [
  {
   "cell_type": "markdown",
   "id": "1de1da8e-cccf-494e-a1c9-4d1f9f991105",
   "metadata": {},
   "source": [
    "# Operations"
   ]
  },
  {
   "cell_type": "code",
   "execution_count": 1,
   "id": "5dd78c8f-eb0a-4012-a6bb-5711a0863d2f",
   "metadata": {},
   "outputs": [
    {
     "data": {
      "text/plain": [
       "22"
      ]
     },
     "execution_count": 1,
     "metadata": {},
     "output_type": "execute_result"
    }
   ],
   "source": [
    "16+6"
   ]
  },
  {
   "cell_type": "code",
   "execution_count": 2,
   "id": "816b3d3f-a50b-400d-be23-4bacafd2dbdb",
   "metadata": {},
   "outputs": [
    {
     "data": {
      "text/plain": [
       "4"
      ]
     },
     "execution_count": 2,
     "metadata": {},
     "output_type": "execute_result"
    }
   ],
   "source": [
    "10-6"
   ]
  },
  {
   "cell_type": "code",
   "execution_count": 3,
   "id": "7a1feed9-69cd-4d9d-8568-7d937788ad1d",
   "metadata": {},
   "outputs": [
    {
     "data": {
      "text/plain": [
       "42"
      ]
     },
     "execution_count": 3,
     "metadata": {},
     "output_type": "execute_result"
    }
   ],
   "source": [
    "21*2"
   ]
  },
  {
   "cell_type": "code",
   "execution_count": 4,
   "id": "f939e8f5-ab16-4b4e-adad-60470b25a2dc",
   "metadata": {},
   "outputs": [
    {
     "data": {
      "text/plain": [
       "0"
      ]
     },
     "execution_count": 4,
     "metadata": {},
     "output_type": "execute_result"
    }
   ],
   "source": [
    "8%4"
   ]
  },
  {
   "cell_type": "code",
   "execution_count": 5,
   "id": "04e74de0-ed23-4b04-89e8-779394d690e4",
   "metadata": {},
   "outputs": [
    {
     "data": {
      "text/plain": [
       "2.0"
      ]
     },
     "execution_count": 5,
     "metadata": {},
     "output_type": "execute_result"
    }
   ],
   "source": [
    "6/3"
   ]
  },
  {
   "cell_type": "code",
   "execution_count": 6,
   "id": "5503a3f6-3252-4e5a-a0fe-c2dd1623f07b",
   "metadata": {},
   "outputs": [
    {
     "data": {
      "text/plain": [
       "'CHETANACHETANACHETANACHETANA'"
      ]
     },
     "execution_count": 6,
     "metadata": {},
     "output_type": "execute_result"
    }
   ],
   "source": [
    "'CHETANA'*4"
   ]
  },
  {
   "cell_type": "code",
   "execution_count": 8,
   "id": "5465e203-d687-45d6-8eb2-6abda6b1546f",
   "metadata": {},
   "outputs": [
    {
     "data": {
      "text/plain": [
       "'ChetanaChetana'"
      ]
     },
     "execution_count": 8,
     "metadata": {},
     "output_type": "execute_result"
    }
   ],
   "source": [
    "'Chetana'*2"
   ]
  },
  {
   "cell_type": "code",
   "execution_count": 9,
   "id": "264a3d42-b2b6-4f4a-aeb3-a247a1c58217",
   "metadata": {},
   "outputs": [
    {
     "data": {
      "text/plain": [
       "10"
      ]
     },
     "execution_count": 9,
     "metadata": {},
     "output_type": "execute_result"
    }
   ],
   "source": [
    "4+6 #int+int"
   ]
  },
  {
   "cell_type": "code",
   "execution_count": 10,
   "id": "486a578b-0772-4589-8bf9-aea51ef7356c",
   "metadata": {},
   "outputs": [
    {
     "data": {
      "text/plain": [
       "9.5"
      ]
     },
     "execution_count": 10,
     "metadata": {},
     "output_type": "execute_result"
    }
   ],
   "source": [
    "6+3.5 #int+float"
   ]
  },
  {
   "cell_type": "code",
   "execution_count": 11,
   "id": "3ca4374f-797d-454a-8640-5afe1833fb4f",
   "metadata": {},
   "outputs": [
    {
     "data": {
      "text/plain": [
       "'10number'"
      ]
     },
     "execution_count": 11,
     "metadata": {},
     "output_type": "execute_result"
    }
   ],
   "source": [
    "'10'+'number' #str+str"
   ]
  },
  {
   "cell_type": "code",
   "execution_count": 12,
   "id": "da1f4134-a1cb-4548-8890-0a97e875f7ce",
   "metadata": {},
   "outputs": [],
   "source": [
    "#Anything in quote('' \"\" \"\"\" \"\"\") called as String"
   ]
  },
  {
   "cell_type": "code",
   "execution_count": 13,
   "id": "889f2641-e800-4f6b-a271-b607ec7c0b3b",
   "metadata": {},
   "outputs": [
    {
     "data": {
      "text/plain": [
       "'hellopython'"
      ]
     },
     "execution_count": 13,
     "metadata": {},
     "output_type": "execute_result"
    }
   ],
   "source": [
    "'hello'+'python' #str+str"
   ]
  },
  {
   "cell_type": "code",
   "execution_count": 14,
   "id": "726e2ac3-c1b8-4b90-81b8-92d59c93baa6",
   "metadata": {},
   "outputs": [
    {
     "data": {
      "text/plain": [
       "'happycoding'"
      ]
     },
     "execution_count": 14,
     "metadata": {},
     "output_type": "execute_result"
    }
   ],
   "source": [
    "\"happy\"+\"coding\""
   ]
  },
  {
   "cell_type": "markdown",
   "id": "b764ff23-fcfb-4499-b2de-36c77bff0771",
   "metadata": {},
   "source": [
    "# Variables"
   ]
  },
  {
   "cell_type": "code",
   "execution_count": 15,
   "id": "907d2e81-46f7-4bd9-92c6-fc8f6996dfe8",
   "metadata": {},
   "outputs": [],
   "source": [
    "a=8 # a is the variable and 8 is object"
   ]
  },
  {
   "cell_type": "code",
   "execution_count": 16,
   "id": "484cb33a-02f7-4d16-9657-70923f2eaff0",
   "metadata": {},
   "outputs": [],
   "source": [
    "x=2\n",
    "y=4\n",
    "z=x+y"
   ]
  },
  {
   "cell_type": "code",
   "execution_count": 17,
   "id": "95533ee1-5718-4013-934e-276b0f26125a",
   "metadata": {},
   "outputs": [
    {
     "data": {
      "text/plain": [
       "6"
      ]
     },
     "execution_count": 17,
     "metadata": {},
     "output_type": "execute_result"
    }
   ],
   "source": [
    "z"
   ]
  },
  {
   "cell_type": "code",
   "execution_count": 18,
   "id": "1edb2d67-0d7c-4443-9def-3548c79313ee",
   "metadata": {},
   "outputs": [],
   "source": [
    "num=10"
   ]
  },
  {
   "cell_type": "code",
   "execution_count": 19,
   "id": "e2b0e5ea-3015-4a6e-99d5-245c1aeb398b",
   "metadata": {},
   "outputs": [
    {
     "data": {
      "text/plain": [
       "10"
      ]
     },
     "execution_count": 19,
     "metadata": {},
     "output_type": "execute_result"
    }
   ],
   "source": [
    "num"
   ]
  },
  {
   "cell_type": "code",
   "execution_count": 20,
   "id": "da54ab11-0f01-4399-9d11-894323de2da1",
   "metadata": {},
   "outputs": [],
   "source": [
    "num=12+12"
   ]
  },
  {
   "cell_type": "code",
   "execution_count": 21,
   "id": "796a0b37-3073-4679-8da1-a2e118286728",
   "metadata": {},
   "outputs": [
    {
     "data": {
      "text/plain": [
       "24"
      ]
     },
     "execution_count": 21,
     "metadata": {},
     "output_type": "execute_result"
    }
   ],
   "source": [
    "num"
   ]
  },
  {
   "cell_type": "code",
   "execution_count": 22,
   "id": "8da6b5d0-6992-48b7-992a-cb18e87d1ec0",
   "metadata": {},
   "outputs": [],
   "source": [
    "name= 'Chetana'"
   ]
  },
  {
   "cell_type": "code",
   "execution_count": 23,
   "id": "0a811c6b-8da5-4f67-a235-7ce94373e123",
   "metadata": {},
   "outputs": [
    {
     "data": {
      "text/plain": [
       "'Chetana'"
      ]
     },
     "execution_count": 23,
     "metadata": {},
     "output_type": "execute_result"
    }
   ],
   "source": [
    "name"
   ]
  },
  {
   "cell_type": "code",
   "execution_count": 24,
   "id": "09557778-dc3e-4669-9680-b3df9315d7ad",
   "metadata": {},
   "outputs": [],
   "source": [
    "first_name= 'Chetana'\n",
    "last_name= 'Daund'"
   ]
  },
  {
   "cell_type": "code",
   "execution_count": 25,
   "id": "1f4408b8-ba55-45e7-b50b-fbd7084526d0",
   "metadata": {},
   "outputs": [
    {
     "data": {
      "text/plain": [
       "'Chetana'"
      ]
     },
     "execution_count": 25,
     "metadata": {},
     "output_type": "execute_result"
    }
   ],
   "source": [
    "first_name"
   ]
  },
  {
   "cell_type": "code",
   "execution_count": 26,
   "id": "f0a22d49-3c43-40ea-8172-55729672fb1f",
   "metadata": {},
   "outputs": [
    {
     "data": {
      "text/plain": [
       "'Daund'"
      ]
     },
     "execution_count": 26,
     "metadata": {},
     "output_type": "execute_result"
    }
   ],
   "source": [
    "last_name"
   ]
  },
  {
   "cell_type": "code",
   "execution_count": 27,
   "id": "a01e3bb0-7398-428d-ac81-b1742a3e6a9f",
   "metadata": {},
   "outputs": [
    {
     "data": {
      "text/plain": [
       "'ChetanaDaund'"
      ]
     },
     "execution_count": 27,
     "metadata": {},
     "output_type": "execute_result"
    }
   ],
   "source": [
    "first_name+last_name"
   ]
  },
  {
   "cell_type": "code",
   "execution_count": 31,
   "id": "f6aa76b0-9454-4d6b-9ec9-059b1c0a6113",
   "metadata": {},
   "outputs": [
    {
     "data": {
      "text/plain": [
       "'Chetana Daund'"
      ]
     },
     "execution_count": 31,
     "metadata": {},
     "output_type": "execute_result"
    }
   ],
   "source": [
    "first_name+' '+last_name"
   ]
  },
  {
   "cell_type": "code",
   "execution_count": 32,
   "id": "828054be-b4ec-414f-b22a-cddf3ec967b3",
   "metadata": {},
   "outputs": [],
   "source": [
    "a_2='hello'"
   ]
  },
  {
   "cell_type": "code",
   "execution_count": 33,
   "id": "8720f48f-4c2c-42f5-8653-f8011b8320d3",
   "metadata": {},
   "outputs": [
    {
     "data": {
      "text/plain": [
       "'hello'"
      ]
     },
     "execution_count": 33,
     "metadata": {},
     "output_type": "execute_result"
    }
   ],
   "source": [
    "a_2"
   ]
  },
  {
   "cell_type": "code",
   "execution_count": 35,
   "id": "effa1d89-2a67-4468-a01b-630fddd2d8b3",
   "metadata": {},
   "outputs": [],
   "source": [
    "b_2='hello'"
   ]
  },
  {
   "cell_type": "code",
   "execution_count": 37,
   "id": "802bce3b-68cc-4b70-8b04-474d2c986dfc",
   "metadata": {},
   "outputs": [
    {
     "data": {
      "text/plain": [
       "'hello'"
      ]
     },
     "execution_count": 37,
     "metadata": {},
     "output_type": "execute_result"
    }
   ],
   "source": [
    "b_2"
   ]
  },
  {
   "cell_type": "code",
   "execution_count": 38,
   "id": "a7a199bd-6f58-4b80-8ac8-df8f96a25ee0",
   "metadata": {},
   "outputs": [],
   "source": [
    "#User input"
   ]
  },
  {
   "cell_type": "code",
   "execution_count": 41,
   "id": "6bbc30a6-128f-4ec6-beef-cedcd75470e8",
   "metadata": {},
   "outputs": [
    {
     "name": "stdin",
     "output_type": "stream",
     "text": [
      "Write your name chetana\n"
     ]
    },
    {
     "name": "stdout",
     "output_type": "stream",
     "text": [
      "my name is chetana\n"
     ]
    }
   ],
   "source": [
    "name = input('Write your name')\n",
    "print('my name is',name)"
   ]
  },
  {
   "cell_type": "code",
   "execution_count": 42,
   "id": "04d87617-7d16-4a30-b201-41eea657aff0",
   "metadata": {},
   "outputs": [
    {
     "data": {
      "text/plain": [
       "'chetana'"
      ]
     },
     "execution_count": 42,
     "metadata": {},
     "output_type": "execute_result"
    }
   ],
   "source": [
    "name"
   ]
  },
  {
   "cell_type": "code",
   "execution_count": 43,
   "id": "c3dfec05-f2c5-4307-9645-d54961d22d96",
   "metadata": {},
   "outputs": [
    {
     "name": "stdout",
     "output_type": "stream",
     "text": [
      "I am writing my name and my name is chetana\n"
     ]
    }
   ],
   "source": [
    "print(f'I am writing my name and my name is {name}')"
   ]
  },
  {
   "cell_type": "code",
   "execution_count": 47,
   "id": "9651b0fd-f49b-4ce5-96a4-c4664e56dc59",
   "metadata": {},
   "outputs": [
    {
     "name": "stdout",
     "output_type": "stream",
     "text": [
      "my lastname is Daund and my firstname is Chetana\n"
     ]
    }
   ],
   "source": [
    "print(f'my lastname is {last_name} and my firstname is {first_name}')"
   ]
  },
  {
   "cell_type": "code",
   "execution_count": 48,
   "id": "3097a9fe-5ea5-420e-929d-c6a61df346d1",
   "metadata": {},
   "outputs": [
    {
     "name": "stdout",
     "output_type": "stream",
     "text": [
      "my firstname is Chetana and my lastname is Daund\n"
     ]
    }
   ],
   "source": [
    "print(f'my firstname is {first_name} and my lastname is {last_name}')"
   ]
  },
  {
   "cell_type": "code",
   "execution_count": 49,
   "id": "4dd6668b-3af6-439a-8e6d-a4eb8f646298",
   "metadata": {},
   "outputs": [
    {
     "data": {
      "text/plain": [
       "'chetana'"
      ]
     },
     "execution_count": 49,
     "metadata": {},
     "output_type": "execute_result"
    }
   ],
   "source": [
    "name"
   ]
  },
  {
   "cell_type": "code",
   "execution_count": 50,
   "id": "46d3ef5d-4971-42c4-a38e-9f55066384b2",
   "metadata": {},
   "outputs": [
    {
     "data": {
      "text/plain": [
       "'Daund'"
      ]
     },
     "execution_count": 50,
     "metadata": {},
     "output_type": "execute_result"
    }
   ],
   "source": [
    "last_name"
   ]
  },
  {
   "cell_type": "code",
   "execution_count": 51,
   "id": "8d304a06-6a0d-4784-8323-66d8f2bf00b1",
   "metadata": {},
   "outputs": [
    {
     "name": "stdin",
     "output_type": "stream",
     "text": [
      "Write your city name solapur\n"
     ]
    },
    {
     "name": "stdout",
     "output_type": "stream",
     "text": [
      "my city name is chetana\n"
     ]
    }
   ],
   "source": [
    "city= input('Write your city name')\n",
    "print('my city name is',name)"
   ]
  },
  {
   "cell_type": "code",
   "execution_count": 52,
   "id": "4259be45-7bb1-46c5-9346-58b24ce5710e",
   "metadata": {},
   "outputs": [
    {
     "name": "stdin",
     "output_type": "stream",
     "text": [
      "Write your hobby travel\n"
     ]
    },
    {
     "name": "stdout",
     "output_type": "stream",
     "text": [
      "my hobby is travel\n"
     ]
    }
   ],
   "source": [
    "hobby=input('Write your hobby')\n",
    "print('my hobby is',hobby)"
   ]
  },
  {
   "cell_type": "code",
   "execution_count": 53,
   "id": "9527c49d-0d2b-46c6-8d3e-dd93071ff28f",
   "metadata": {},
   "outputs": [
    {
     "data": {
      "text/plain": [
       "str"
      ]
     },
     "execution_count": 53,
     "metadata": {},
     "output_type": "execute_result"
    }
   ],
   "source": [
    "type(hobby)"
   ]
  },
  {
   "cell_type": "code",
   "execution_count": 54,
   "id": "ced0a1a1-04b0-48b7-94a7-4ccdf6e3f2e9",
   "metadata": {},
   "outputs": [
    {
     "data": {
      "text/plain": [
       "str"
      ]
     },
     "execution_count": 54,
     "metadata": {},
     "output_type": "execute_result"
    }
   ],
   "source": [
    "type(city)"
   ]
  },
  {
   "cell_type": "code",
   "execution_count": 55,
   "id": "ba3b531d-ca6a-43bd-b3fc-b353cf5c0f96",
   "metadata": {},
   "outputs": [
    {
     "data": {
      "text/plain": [
       "'2916'"
      ]
     },
     "execution_count": 55,
     "metadata": {},
     "output_type": "execute_result"
    }
   ],
   "source": [
    "'2916'"
   ]
  },
  {
   "cell_type": "code",
   "execution_count": 56,
   "id": "4ab71b75-1d6a-4de5-bcbb-02a6e91480b9",
   "metadata": {},
   "outputs": [
    {
     "data": {
      "text/plain": [
       "str"
      ]
     },
     "execution_count": 56,
     "metadata": {},
     "output_type": "execute_result"
    }
   ],
   "source": [
    "type('2916')"
   ]
  },
  {
   "cell_type": "code",
   "execution_count": 57,
   "id": "b25dabaf-ec1f-4534-903b-0e4a577bf05e",
   "metadata": {},
   "outputs": [
    {
     "data": {
      "text/plain": [
       "int"
      ]
     },
     "execution_count": 57,
     "metadata": {},
     "output_type": "execute_result"
    }
   ],
   "source": [
    "type(2916)"
   ]
  },
  {
   "cell_type": "code",
   "execution_count": 61,
   "id": "1d2aba3e-2eb7-410b-a2d7-7d19829460ae",
   "metadata": {},
   "outputs": [
    {
     "name": "stdin",
     "output_type": "stream",
     "text": [
      "Write your height in feet 4.7\n"
     ]
    }
   ],
   "source": [
    "height=input('Write your height in feet')"
   ]
  },
  {
   "cell_type": "code",
   "execution_count": 62,
   "id": "be8baa53-9f3b-48ef-b47f-8e42c8637e4b",
   "metadata": {},
   "outputs": [
    {
     "data": {
      "text/plain": [
       "'4.7'"
      ]
     },
     "execution_count": 62,
     "metadata": {},
     "output_type": "execute_result"
    }
   ],
   "source": [
    "height"
   ]
  },
  {
   "cell_type": "code",
   "execution_count": 63,
   "id": "5664e15e-39d5-484c-ad2a-e892e65e5f92",
   "metadata": {},
   "outputs": [
    {
     "data": {
      "text/plain": [
       "str"
      ]
     },
     "execution_count": 63,
     "metadata": {},
     "output_type": "execute_result"
    }
   ],
   "source": [
    "type(height)"
   ]
  },
  {
   "cell_type": "code",
   "execution_count": 64,
   "id": "2a34985e-1886-4344-9f6c-edc30d0e4b79",
   "metadata": {},
   "outputs": [
    {
     "name": "stdin",
     "output_type": "stream",
     "text": [
      "write your age 21\n"
     ]
    }
   ],
   "source": [
    "age=int(input('write your age'))"
   ]
  },
  {
   "cell_type": "code",
   "execution_count": 65,
   "id": "a0facd8a-eb2d-45bc-b2db-6add5b3c8062",
   "metadata": {},
   "outputs": [
    {
     "data": {
      "text/plain": [
       "21"
      ]
     },
     "execution_count": 65,
     "metadata": {},
     "output_type": "execute_result"
    }
   ],
   "source": [
    "age"
   ]
  },
  {
   "cell_type": "code",
   "execution_count": 66,
   "id": "df2924bf-9db0-42c7-9244-6e437a77038d",
   "metadata": {},
   "outputs": [
    {
     "data": {
      "text/plain": [
       "int"
      ]
     },
     "execution_count": 66,
     "metadata": {},
     "output_type": "execute_result"
    }
   ],
   "source": [
    "type(age)"
   ]
  },
  {
   "cell_type": "code",
   "execution_count": 67,
   "id": "804b73a7-292e-4c8a-b524-f6411732dffa",
   "metadata": {},
   "outputs": [
    {
     "name": "stdin",
     "output_type": "stream",
     "text": [
      "Write your birthday 29\n",
      "Write your birth month 7\n",
      "Write your birth year 2004\n"
     ]
    },
    {
     "name": "stdout",
     "output_type": "stream",
     "text": [
      "your birth date is 29 7 2004\n"
     ]
    }
   ],
   "source": [
    "day=int(input('Write your birthday'))\n",
    "month=int(input('Write your birth month'))\n",
    "year=int(input('Write your birth year'))\n",
    "print(f'your birth date is {day} {month} {year}')"
   ]
  },
  {
   "cell_type": "code",
   "execution_count": 69,
   "id": "e928d01e-1f0c-4e38-9ff5-f01d0e262350",
   "metadata": {},
   "outputs": [
    {
     "name": "stdin",
     "output_type": "stream",
     "text": [
      " 4.7\n"
     ]
    }
   ],
   "source": [
    "height=float(input())"
   ]
  },
  {
   "cell_type": "code",
   "execution_count": 70,
   "id": "927a3106-b2a5-4d80-ab02-9cf995c52c39",
   "metadata": {},
   "outputs": [
    {
     "data": {
      "text/plain": [
       "4.7"
      ]
     },
     "execution_count": 70,
     "metadata": {},
     "output_type": "execute_result"
    }
   ],
   "source": [
    "height"
   ]
  },
  {
   "cell_type": "code",
   "execution_count": 71,
   "id": "8e6cb183-02d0-4566-99db-cbc184388043",
   "metadata": {},
   "outputs": [
    {
     "data": {
      "text/plain": [
       "float"
      ]
     },
     "execution_count": 71,
     "metadata": {},
     "output_type": "execute_result"
    }
   ],
   "source": [
    "type(height)"
   ]
  },
  {
   "cell_type": "code",
   "execution_count": 72,
   "id": "db2709df-1952-4878-a9cc-d530fa5ca5e0",
   "metadata": {},
   "outputs": [
    {
     "name": "stdin",
     "output_type": "stream",
     "text": [
      " 50.2\n"
     ]
    }
   ],
   "source": [
    "weight=float(input())"
   ]
  },
  {
   "cell_type": "code",
   "execution_count": 73,
   "id": "c6893098-16fc-407d-8913-55f2cf5bef16",
   "metadata": {},
   "outputs": [
    {
     "data": {
      "text/plain": [
       "50.2"
      ]
     },
     "execution_count": 73,
     "metadata": {},
     "output_type": "execute_result"
    }
   ],
   "source": [
    "weight"
   ]
  },
  {
   "cell_type": "code",
   "execution_count": 74,
   "id": "cd28d9a4-a832-47ec-b49d-cfa57e8e6753",
   "metadata": {},
   "outputs": [
    {
     "data": {
      "text/plain": [
       "float"
      ]
     },
     "execution_count": 74,
     "metadata": {},
     "output_type": "execute_result"
    }
   ],
   "source": [
    "type(50.2)"
   ]
  },
  {
   "cell_type": "code",
   "execution_count": 77,
   "id": "c10dc0a8-4d70-4faf-ac0d-a76a83dd8b3c",
   "metadata": {},
   "outputs": [
    {
     "name": "stdin",
     "output_type": "stream",
     "text": [
      " 21\n"
     ]
    }
   ],
   "source": [
    "age=int(input())"
   ]
  },
  {
   "cell_type": "code",
   "execution_count": 76,
   "id": "f4f663f2-1e2f-444c-addb-d7e0ef46076e",
   "metadata": {},
   "outputs": [
    {
     "name": "stdin",
     "output_type": "stream",
     "text": [
      " solapur\n"
     ]
    }
   ],
   "source": [
    "city=str(input())"
   ]
  },
  {
   "cell_type": "code",
   "execution_count": 79,
   "id": "226f6e01-29e6-44d8-9c87-4f8b88c7e30f",
   "metadata": {},
   "outputs": [
    {
     "data": {
      "text/plain": [
       "str"
      ]
     },
     "execution_count": 79,
     "metadata": {},
     "output_type": "execute_result"
    }
   ],
   "source": [
    "type(city)"
   ]
  },
  {
   "cell_type": "code",
   "execution_count": 80,
   "id": "ce23f186-1102-43c2-ad44-a755cb086da9",
   "metadata": {},
   "outputs": [
    {
     "data": {
      "text/plain": [
       "int"
      ]
     },
     "execution_count": 80,
     "metadata": {},
     "output_type": "execute_result"
    }
   ],
   "source": [
    "type(age)"
   ]
  },
  {
   "cell_type": "code",
   "execution_count": null,
   "id": "61f9edee-5beb-419b-bd4a-f78ab6a3c9a6",
   "metadata": {},
   "outputs": [],
   "source": []
  }
 ],
 "metadata": {
  "kernelspec": {
   "display_name": "Python 3 (ipykernel)",
   "language": "python",
   "name": "python3"
  },
  "language_info": {
   "codemirror_mode": {
    "name": "ipython",
    "version": 3
   },
   "file_extension": ".py",
   "mimetype": "text/x-python",
   "name": "python",
   "nbconvert_exporter": "python",
   "pygments_lexer": "ipython3",
   "version": "3.12.7"
  }
 },
 "nbformat": 4,
 "nbformat_minor": 5
}
