{
 "cells": [
  {
   "cell_type": "markdown",
   "id": "0e1b99b4-41c8-4a76-9d91-3ef6a9e2a5e3",
   "metadata": {},
   "source": [
    "Int"
   ]
  },
  {
   "cell_type": "code",
   "execution_count": 1,
   "id": "8ac8c122-d8ea-4ad7-ab67-41494367802b",
   "metadata": {},
   "outputs": [
    {
     "data": {
      "text/plain": [
       "10"
      ]
     },
     "execution_count": 1,
     "metadata": {},
     "output_type": "execute_result"
    }
   ],
   "source": [
    "10"
   ]
  },
  {
   "cell_type": "code",
   "execution_count": 2,
   "id": "b37715d3-aba6-4909-9f4b-b49dd6b60df1",
   "metadata": {},
   "outputs": [
    {
     "data": {
      "text/plain": [
       "int"
      ]
     },
     "execution_count": 2,
     "metadata": {},
     "output_type": "execute_result"
    }
   ],
   "source": [
    "type(10)"
   ]
  },
  {
   "cell_type": "code",
   "execution_count": 3,
   "id": "d75ad203-9b4a-479e-91fa-f460638a4075",
   "metadata": {},
   "outputs": [
    {
     "data": {
      "text/plain": [
       "int"
      ]
     },
     "execution_count": 3,
     "metadata": {},
     "output_type": "execute_result"
    }
   ],
   "source": [
    "type(25)"
   ]
  },
  {
   "cell_type": "code",
   "execution_count": 4,
   "id": "d48bc6d3-c823-47b0-a82e-b44dcad4c5ed",
   "metadata": {},
   "outputs": [
    {
     "data": {
      "text/plain": [
       "350"
      ]
     },
     "execution_count": 4,
     "metadata": {},
     "output_type": "execute_result"
    }
   ],
   "source": [
    "350"
   ]
  },
  {
   "cell_type": "code",
   "execution_count": 5,
   "id": "23021917-4216-4b61-9544-8c6019b45765",
   "metadata": {},
   "outputs": [
    {
     "data": {
      "text/plain": [
       "int"
      ]
     },
     "execution_count": 5,
     "metadata": {},
     "output_type": "execute_result"
    }
   ],
   "source": [
    "type(350)"
   ]
  },
  {
   "cell_type": "markdown",
   "id": "2bf100aa-1ec9-4932-a794-c0397ad1dc22",
   "metadata": {},
   "source": [
    "Float"
   ]
  },
  {
   "cell_type": "code",
   "execution_count": 6,
   "id": "b85781f2-6fcb-4fb6-a269-3e0c0ba127d4",
   "metadata": {},
   "outputs": [
    {
     "data": {
      "text/plain": [
       "23.1"
      ]
     },
     "execution_count": 6,
     "metadata": {},
     "output_type": "execute_result"
    }
   ],
   "source": [
    "23.10"
   ]
  },
  {
   "cell_type": "code",
   "execution_count": 7,
   "id": "d2128bf8-9583-46de-9076-52c34f5df395",
   "metadata": {},
   "outputs": [
    {
     "data": {
      "text/plain": [
       "float"
      ]
     },
     "execution_count": 7,
     "metadata": {},
     "output_type": "execute_result"
    }
   ],
   "source": [
    "type(23.1)"
   ]
  },
  {
   "cell_type": "code",
   "execution_count": 8,
   "id": "b9ec1a97-e333-4bb3-bb65-b35d5160aa33",
   "metadata": {},
   "outputs": [
    {
     "data": {
      "text/plain": [
       "float"
      ]
     },
     "execution_count": 8,
     "metadata": {},
     "output_type": "execute_result"
    }
   ],
   "source": [
    "type(11.23)"
   ]
  },
  {
   "cell_type": "code",
   "execution_count": 9,
   "id": "14e1f945-315f-4d8e-be05-23c5f2dc4fce",
   "metadata": {},
   "outputs": [
    {
     "data": {
      "text/plain": [
       "258.32"
      ]
     },
     "execution_count": 9,
     "metadata": {},
     "output_type": "execute_result"
    }
   ],
   "source": [
    "258.32"
   ]
  },
  {
   "cell_type": "code",
   "execution_count": 10,
   "id": "137ff774-dad4-41a8-9253-24e5f5d7b6b3",
   "metadata": {},
   "outputs": [
    {
     "data": {
      "text/plain": [
       "float"
      ]
     },
     "execution_count": 10,
     "metadata": {},
     "output_type": "execute_result"
    }
   ],
   "source": [
    "type(258.32)"
   ]
  },
  {
   "cell_type": "markdown",
   "id": "fd41c4c4-fe9f-4f44-92f4-f5c1779704d7",
   "metadata": {},
   "source": [
    "Complex Numbers"
   ]
  },
  {
   "cell_type": "code",
   "execution_count": 11,
   "id": "760167f6-faef-4323-9cbb-b3d9b1370251",
   "metadata": {},
   "outputs": [
    {
     "data": {
      "text/plain": [
       "(16+6j)"
      ]
     },
     "execution_count": 11,
     "metadata": {},
     "output_type": "execute_result"
    }
   ],
   "source": [
    "16+6j"
   ]
  },
  {
   "cell_type": "code",
   "execution_count": 12,
   "id": "daf54d33-db5c-4e66-a98f-1af156d21a46",
   "metadata": {},
   "outputs": [
    {
     "data": {
      "text/plain": [
       "complex"
      ]
     },
     "execution_count": 12,
     "metadata": {},
     "output_type": "execute_result"
    }
   ],
   "source": [
    "type(16+6j)"
   ]
  },
  {
   "cell_type": "code",
   "execution_count": 13,
   "id": "a5465fe8-d1c0-4764-aeed-8f7de798bb58",
   "metadata": {},
   "outputs": [
    {
     "data": {
      "text/plain": [
       "complex"
      ]
     },
     "execution_count": 13,
     "metadata": {},
     "output_type": "execute_result"
    }
   ],
   "source": [
    "type(29+7j)"
   ]
  },
  {
   "cell_type": "code",
   "execution_count": 14,
   "id": "5d1df27d-2535-4c9c-ab6a-1b04141d135b",
   "metadata": {},
   "outputs": [
    {
     "data": {
      "text/plain": [
       "complex"
      ]
     },
     "execution_count": 14,
     "metadata": {},
     "output_type": "execute_result"
    }
   ],
   "source": [
    "type(35-6j)"
   ]
  },
  {
   "cell_type": "markdown",
   "id": "fb0caa8d-f054-4194-8771-ea0d6a5b1eb1",
   "metadata": {},
   "source": [
    "Boolean"
   ]
  },
  {
   "cell_type": "code",
   "execution_count": 15,
   "id": "ae1e5441-1926-4061-bf03-bc0e1a0ebb2b",
   "metadata": {},
   "outputs": [
    {
     "data": {
      "text/plain": [
       "True"
      ]
     },
     "execution_count": 15,
     "metadata": {},
     "output_type": "execute_result"
    }
   ],
   "source": [
    "5>4"
   ]
  },
  {
   "cell_type": "code",
   "execution_count": 16,
   "id": "67be5c29-15d0-4a02-8cef-8746db7cfd9b",
   "metadata": {},
   "outputs": [
    {
     "data": {
      "text/plain": [
       "False"
      ]
     },
     "execution_count": 16,
     "metadata": {},
     "output_type": "execute_result"
    }
   ],
   "source": [
    "10<5"
   ]
  },
  {
   "cell_type": "code",
   "execution_count": 18,
   "id": "9859e191-1913-4ecb-9a57-b3151d5363a8",
   "metadata": {},
   "outputs": [
    {
     "data": {
      "text/plain": [
       "bool"
      ]
     },
     "execution_count": 18,
     "metadata": {},
     "output_type": "execute_result"
    }
   ],
   "source": [
    "type(5<6)"
   ]
  },
  {
   "cell_type": "code",
   "execution_count": 19,
   "id": "f40e59c8-fb65-462a-84a0-e5694706d1ee",
   "metadata": {},
   "outputs": [
    {
     "data": {
      "text/plain": [
       "True"
      ]
     },
     "execution_count": 19,
     "metadata": {},
     "output_type": "execute_result"
    }
   ],
   "source": [
    "8==8"
   ]
  },
  {
   "cell_type": "code",
   "execution_count": 20,
   "id": "036a2b79-51cc-4bd5-b089-21c2147b3896",
   "metadata": {},
   "outputs": [
    {
     "data": {
      "text/plain": [
       "bool"
      ]
     },
     "execution_count": 20,
     "metadata": {},
     "output_type": "execute_result"
    }
   ],
   "source": [
    "type(8==8)"
   ]
  },
  {
   "cell_type": "code",
   "execution_count": 21,
   "id": "27024021-8039-4e63-bb7f-a3f4ae723d2f",
   "metadata": {},
   "outputs": [
    {
     "data": {
      "text/plain": [
       "False"
      ]
     },
     "execution_count": 21,
     "metadata": {},
     "output_type": "execute_result"
    }
   ],
   "source": [
    "25>30"
   ]
  },
  {
   "cell_type": "code",
   "execution_count": 22,
   "id": "d4dae7f9-1576-469e-ba5b-c1f735c3fcc5",
   "metadata": {},
   "outputs": [
    {
     "data": {
      "text/plain": [
       "True"
      ]
     },
     "execution_count": 22,
     "metadata": {},
     "output_type": "execute_result"
    }
   ],
   "source": [
    "29<30"
   ]
  },
  {
   "cell_type": "code",
   "execution_count": 23,
   "id": "f7afa214-075a-47f3-8c32-0b2fa1c98445",
   "metadata": {},
   "outputs": [
    {
     "data": {
      "text/plain": [
       "bool"
      ]
     },
     "execution_count": 23,
     "metadata": {},
     "output_type": "execute_result"
    }
   ],
   "source": [
    "type(29<30)"
   ]
  },
  {
   "cell_type": "markdown",
   "id": "569455d6-4899-427b-a519-54214c056156",
   "metadata": {},
   "source": [
    "String"
   ]
  },
  {
   "cell_type": "code",
   "execution_count": 25,
   "id": "7c290408-47a0-4aed-8881-b428e7feabe1",
   "metadata": {},
   "outputs": [
    {
     "data": {
      "text/plain": [
       "'hello'"
      ]
     },
     "execution_count": 25,
     "metadata": {},
     "output_type": "execute_result"
    }
   ],
   "source": [
    "'hello'"
   ]
  },
  {
   "cell_type": "code",
   "execution_count": 26,
   "id": "ee688b24-a6f7-436a-97e4-df67f5ea7d32",
   "metadata": {},
   "outputs": [
    {
     "data": {
      "text/plain": [
       "'first day'"
      ]
     },
     "execution_count": 26,
     "metadata": {},
     "output_type": "execute_result"
    }
   ],
   "source": [
    "\"first day\""
   ]
  },
  {
   "cell_type": "code",
   "execution_count": 27,
   "id": "681f4391-7d63-43aa-98ed-a214f57a0c7b",
   "metadata": {},
   "outputs": [
    {
     "data": {
      "text/plain": [
       "str"
      ]
     },
     "execution_count": 27,
     "metadata": {},
     "output_type": "execute_result"
    }
   ],
   "source": [
    "type(\"first day\")"
   ]
  },
  {
   "cell_type": "code",
   "execution_count": 28,
   "id": "a4f17b46-cff2-4d1a-a0fb-5af98215a326",
   "metadata": {},
   "outputs": [
    {
     "data": {
      "text/plain": [
       "str"
      ]
     },
     "execution_count": 28,
     "metadata": {},
     "output_type": "execute_result"
    }
   ],
   "source": [
    "type('hello')"
   ]
  },
  {
   "cell_type": "code",
   "execution_count": 29,
   "id": "46270bcd-495c-43d0-818f-e445ff236ee5",
   "metadata": {},
   "outputs": [
    {
     "data": {
      "text/plain": [
       "'frist page\\nsecond page\\nthird page\\nlast page'"
      ]
     },
     "execution_count": 29,
     "metadata": {},
     "output_type": "execute_result"
    }
   ],
   "source": [
    "\"\"\"frist page\n",
    "second page\n",
    "third page\n",
    "last page\"\"\""
   ]
  },
  {
   "cell_type": "code",
   "execution_count": 30,
   "id": "697a1ba8-7cf4-43ab-950b-40563b8ae9b3",
   "metadata": {},
   "outputs": [
    {
     "data": {
      "text/plain": [
       "str"
      ]
     },
     "execution_count": 30,
     "metadata": {},
     "output_type": "execute_result"
    }
   ],
   "source": [
    "type(\"\"\"frist page\n",
    "second page\n",
    "third page\n",
    "last page\"\"\")"
   ]
  },
  {
   "cell_type": "code",
   "execution_count": 31,
   "id": "ba0d4c68-d9c4-4322-92a4-035c318714b8",
   "metadata": {},
   "outputs": [
    {
     "name": "stdout",
     "output_type": "stream",
     "text": [
      "frist page\n",
      "second page\n",
      "third page\n",
      "last page\n"
     ]
    }
   ],
   "source": [
    "print(\"\"\"frist page\n",
    "second page\n",
    "third page\n",
    "last page\"\"\")"
   ]
  },
  {
   "cell_type": "code",
   "execution_count": 32,
   "id": "4489acf4-855f-47d5-8eb8-18ecdc91d4c0",
   "metadata": {},
   "outputs": [
    {
     "data": {
      "text/plain": [
       "'My name is Chetana.'"
      ]
     },
     "execution_count": 32,
     "metadata": {},
     "output_type": "execute_result"
    }
   ],
   "source": [
    "\"My name is Chetana.\""
   ]
  },
  {
   "cell_type": "code",
   "execution_count": 33,
   "id": "efbd5691-2b55-4a07-80a2-12cc040a2bcb",
   "metadata": {},
   "outputs": [
    {
     "data": {
      "text/plain": [
       "str"
      ]
     },
     "execution_count": 33,
     "metadata": {},
     "output_type": "execute_result"
    }
   ],
   "source": [
    "type(\"My name is Chetana.\")"
   ]
  },
  {
   "cell_type": "code",
   "execution_count": 34,
   "id": "388ef1f7-c155-4a74-886c-51c431e8a009",
   "metadata": {},
   "outputs": [
    {
     "data": {
      "text/plain": [
       "str"
      ]
     },
     "execution_count": 34,
     "metadata": {},
     "output_type": "execute_result"
    }
   ],
   "source": [
    "type('happy journey')"
   ]
  },
  {
   "cell_type": "code",
   "execution_count": null,
   "id": "bf949592-e4d1-4dc1-9822-3bc6d7e7193a",
   "metadata": {},
   "outputs": [],
   "source": []
  }
 ],
 "metadata": {
  "kernelspec": {
   "display_name": "Python 3 (ipykernel)",
   "language": "python",
   "name": "python3"
  },
  "language_info": {
   "codemirror_mode": {
    "name": "ipython",
    "version": 3
   },
   "file_extension": ".py",
   "mimetype": "text/x-python",
   "name": "python",
   "nbconvert_exporter": "python",
   "pygments_lexer": "ipython3",
   "version": "3.12.7"
  }
 },
 "nbformat": 4,
 "nbformat_minor": 5
}
