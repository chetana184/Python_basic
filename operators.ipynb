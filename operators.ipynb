{
 "cells": [
  {
   "cell_type": "markdown",
   "id": "5b796156-e2b3-43a5-9905-bc96a1a94d8a",
   "metadata": {},
   "source": [
    "Arithematic Operator"
   ]
  },
  {
   "cell_type": "code",
   "execution_count": 1,
   "id": "5707ec78-8d7f-44a6-90b5-eee31008dc17",
   "metadata": {},
   "outputs": [
    {
     "data": {
      "text/plain": [
       "17"
      ]
     },
     "execution_count": 1,
     "metadata": {},
     "output_type": "execute_result"
    }
   ],
   "source": [
    "12+5"
   ]
  },
  {
   "cell_type": "code",
   "execution_count": 2,
   "id": "605700c2-274a-4376-bec1-66722b5c40f4",
   "metadata": {},
   "outputs": [
    {
     "data": {
      "text/plain": [
       "7"
      ]
     },
     "execution_count": 2,
     "metadata": {},
     "output_type": "execute_result"
    }
   ],
   "source": [
    "12-5"
   ]
  },
  {
   "cell_type": "code",
   "execution_count": 3,
   "id": "e9b18939-4be0-4e87-a16d-a6a502f2633d",
   "metadata": {},
   "outputs": [
    {
     "data": {
      "text/plain": [
       "60"
      ]
     },
     "execution_count": 3,
     "metadata": {},
     "output_type": "execute_result"
    }
   ],
   "source": [
    "12*5"
   ]
  },
  {
   "cell_type": "code",
   "execution_count": 4,
   "id": "1c15d687-75bc-4acd-a417-d0de078684f5",
   "metadata": {},
   "outputs": [
    {
     "data": {
      "text/plain": [
       "0"
      ]
     },
     "execution_count": 4,
     "metadata": {},
     "output_type": "execute_result"
    }
   ],
   "source": [
    "15%5"
   ]
  },
  {
   "cell_type": "code",
   "execution_count": 8,
   "id": "3803cb26-defd-41a9-a868-73ff061fa053",
   "metadata": {},
   "outputs": [
    {
     "data": {
      "text/plain": [
       "58"
      ]
     },
     "execution_count": 8,
     "metadata": {},
     "output_type": "execute_result"
    }
   ],
   "source": [
    "29+29"
   ]
  },
  {
   "cell_type": "code",
   "execution_count": 9,
   "id": "74d8eb36-33fc-4e52-b70b-9fcdbd672f27",
   "metadata": {},
   "outputs": [
    {
     "data": {
      "text/plain": [
       "22"
      ]
     },
     "execution_count": 9,
     "metadata": {},
     "output_type": "execute_result"
    }
   ],
   "source": [
    "29-7"
   ]
  },
  {
   "cell_type": "markdown",
   "id": "07a88e7a-ce0b-4d58-b3d8-ae584a669981",
   "metadata": {},
   "source": [
    "Comparison Operator"
   ]
  },
  {
   "cell_type": "code",
   "execution_count": 10,
   "id": "495e7beb-1dd3-418b-8945-c1a5249b8d1c",
   "metadata": {},
   "outputs": [
    {
     "data": {
      "text/plain": [
       "False"
      ]
     },
     "execution_count": 10,
     "metadata": {},
     "output_type": "execute_result"
    }
   ],
   "source": [
    "10<5"
   ]
  },
  {
   "cell_type": "code",
   "execution_count": 11,
   "id": "24c58d8e-c64a-40ac-8328-f75c30597908",
   "metadata": {},
   "outputs": [
    {
     "data": {
      "text/plain": [
       "False"
      ]
     },
     "execution_count": 11,
     "metadata": {},
     "output_type": "execute_result"
    }
   ],
   "source": [
    "2>8"
   ]
  },
  {
   "cell_type": "code",
   "execution_count": 12,
   "id": "f67b0cfd-6d65-4afa-8270-28fa387e57dc",
   "metadata": {},
   "outputs": [
    {
     "data": {
      "text/plain": [
       "True"
      ]
     },
     "execution_count": 12,
     "metadata": {},
     "output_type": "execute_result"
    }
   ],
   "source": [
    "10>5"
   ]
  },
  {
   "cell_type": "code",
   "execution_count": 14,
   "id": "58dde48f-cabc-42c4-9a57-209c2bc50cb7",
   "metadata": {},
   "outputs": [
    {
     "data": {
      "text/plain": [
       "True"
      ]
     },
     "execution_count": 14,
     "metadata": {},
     "output_type": "execute_result"
    }
   ],
   "source": [
    "4<8"
   ]
  },
  {
   "cell_type": "code",
   "execution_count": 19,
   "id": "a5d2f793-534a-4ad8-9cd4-8d3a5cabbbf4",
   "metadata": {},
   "outputs": [
    {
     "data": {
      "text/plain": [
       "True"
      ]
     },
     "execution_count": 19,
     "metadata": {},
     "output_type": "execute_result"
    }
   ],
   "source": [
    "10==10"
   ]
  },
  {
   "cell_type": "code",
   "execution_count": 21,
   "id": "525e8eb8-c0a2-4948-a334-7d5ff88cbc2e",
   "metadata": {},
   "outputs": [
    {
     "data": {
      "text/plain": [
       "True"
      ]
     },
     "execution_count": 21,
     "metadata": {},
     "output_type": "execute_result"
    }
   ],
   "source": [
    "15!=8"
   ]
  },
  {
   "cell_type": "code",
   "execution_count": 22,
   "id": "7d31186e-e098-42fb-bc04-d5a3a639d3b5",
   "metadata": {},
   "outputs": [
    {
     "data": {
      "text/plain": [
       "True"
      ]
     },
     "execution_count": 22,
     "metadata": {},
     "output_type": "execute_result"
    }
   ],
   "source": [
    "12>=11"
   ]
  },
  {
   "cell_type": "code",
   "execution_count": 23,
   "id": "c447f709-9d24-4a47-acdb-907e2ee7230e",
   "metadata": {},
   "outputs": [
    {
     "data": {
      "text/plain": [
       "False"
      ]
     },
     "execution_count": 23,
     "metadata": {},
     "output_type": "execute_result"
    }
   ],
   "source": [
    "15<=10"
   ]
  },
  {
   "cell_type": "code",
   "execution_count": 25,
   "id": "fbb7bb85-b48e-4766-bfc4-75d01c5e296d",
   "metadata": {},
   "outputs": [
    {
     "data": {
      "text/plain": [
       "True"
      ]
     },
     "execution_count": 25,
     "metadata": {},
     "output_type": "execute_result"
    }
   ],
   "source": [
    "'h'=='h'"
   ]
  },
  {
   "cell_type": "code",
   "execution_count": 26,
   "id": "df88c224-25d9-4ebe-b8c0-b65d1809dd4c",
   "metadata": {},
   "outputs": [
    {
     "data": {
      "text/plain": [
       "True"
      ]
     },
     "execution_count": 26,
     "metadata": {},
     "output_type": "execute_result"
    }
   ],
   "source": [
    "'C'=='C'"
   ]
  },
  {
   "cell_type": "code",
   "execution_count": 28,
   "id": "c91d48c7-aebf-46f7-92f5-6c4757459f2f",
   "metadata": {},
   "outputs": [
    {
     "data": {
      "text/plain": [
       "False"
      ]
     },
     "execution_count": 28,
     "metadata": {},
     "output_type": "execute_result"
    }
   ],
   "source": [
    "'V'=='v'"
   ]
  },
  {
   "cell_type": "code",
   "execution_count": 42,
   "id": "c4c0e903-cedf-4d5c-ad9d-5767b91fff08",
   "metadata": {},
   "outputs": [
    {
     "data": {
      "text/plain": [
       "False"
      ]
     },
     "execution_count": 42,
     "metadata": {},
     "output_type": "execute_result"
    }
   ],
   "source": [
    "'hello'=='first'"
   ]
  },
  {
   "cell_type": "code",
   "execution_count": 30,
   "id": "4a4d6e48-5c09-4529-a1e1-a36b336ab293",
   "metadata": {},
   "outputs": [
    {
     "data": {
      "text/plain": [
       "True"
      ]
     },
     "execution_count": 30,
     "metadata": {},
     "output_type": "execute_result"
    }
   ],
   "source": [
    "'HELLO'=='HELLO'"
   ]
  },
  {
   "cell_type": "code",
   "execution_count": 31,
   "id": "eca3e8a1-41c6-4127-93f1-5c1e77cc33d7",
   "metadata": {},
   "outputs": [
    {
     "data": {
      "text/plain": [
       "False"
      ]
     },
     "execution_count": 31,
     "metadata": {},
     "output_type": "execute_result"
    }
   ],
   "source": [
    "'X'=='Y'"
   ]
  },
  {
   "cell_type": "code",
   "execution_count": 32,
   "id": "0cd1fb4f-83bc-46b0-a79b-42f818677aed",
   "metadata": {},
   "outputs": [
    {
     "data": {
      "text/plain": [
       "True"
      ]
     },
     "execution_count": 32,
     "metadata": {},
     "output_type": "execute_result"
    }
   ],
   "source": [
    "20!=25"
   ]
  },
  {
   "cell_type": "code",
   "execution_count": 41,
   "id": "403ef0cb-5bf4-4891-ac0e-cde6d2c5684b",
   "metadata": {},
   "outputs": [
    {
     "data": {
      "text/plain": [
       "True"
      ]
     },
     "execution_count": 41,
     "metadata": {},
     "output_type": "execute_result"
    }
   ],
   "source": [
    "'hello'!='Python'"
   ]
  },
  {
   "cell_type": "code",
   "execution_count": 34,
   "id": "1f2b3406-3820-4451-bb99-0c45cc432a6e",
   "metadata": {},
   "outputs": [
    {
     "data": {
      "text/plain": [
       "True"
      ]
     },
     "execution_count": 34,
     "metadata": {},
     "output_type": "execute_result"
    }
   ],
   "source": [
    "'X'!='Y'"
   ]
  },
  {
   "cell_type": "markdown",
   "id": "8e4030b1-8940-45c2-b4bd-6c772aba58f7",
   "metadata": {},
   "source": [
    "AND Operator"
   ]
  },
  {
   "cell_type": "code",
   "execution_count": 45,
   "id": "3eacff5b-e39d-49cb-bc88-be8b3b5d0d27",
   "metadata": {},
   "outputs": [
    {
     "data": {
      "text/plain": [
       "False"
      ]
     },
     "execution_count": 45,
     "metadata": {},
     "output_type": "execute_result"
    }
   ],
   "source": [
    "True and False"
   ]
  },
  {
   "cell_type": "code",
   "execution_count": 46,
   "id": "89bedc7a-1e8d-4a58-8951-c42922237c84",
   "metadata": {},
   "outputs": [
    {
     "data": {
      "text/plain": [
       "True"
      ]
     },
     "execution_count": 46,
     "metadata": {},
     "output_type": "execute_result"
    }
   ],
   "source": [
    "True and True "
   ]
  },
  {
   "cell_type": "code",
   "execution_count": 47,
   "id": "206756ab-66b3-450f-a737-013ada9d88a1",
   "metadata": {},
   "outputs": [
    {
     "data": {
      "text/plain": [
       "False"
      ]
     },
     "execution_count": 47,
     "metadata": {},
     "output_type": "execute_result"
    }
   ],
   "source": [
    "False and False"
   ]
  },
  {
   "cell_type": "code",
   "execution_count": 48,
   "id": "cda77776-a7a5-4939-84a2-83f2143203a5",
   "metadata": {},
   "outputs": [
    {
     "data": {
      "text/plain": [
       "False"
      ]
     },
     "execution_count": 48,
     "metadata": {},
     "output_type": "execute_result"
    }
   ],
   "source": [
    "False and True"
   ]
  },
  {
   "cell_type": "markdown",
   "id": "8d09e3f6-179d-4934-95d1-eccb6829b0f1",
   "metadata": {},
   "source": [
    "OR Operator"
   ]
  },
  {
   "cell_type": "code",
   "execution_count": 49,
   "id": "47c81a59-0515-4f5f-ad15-fef52784a28a",
   "metadata": {},
   "outputs": [
    {
     "data": {
      "text/plain": [
       "True"
      ]
     },
     "execution_count": 49,
     "metadata": {},
     "output_type": "execute_result"
    }
   ],
   "source": [
    "True or False"
   ]
  },
  {
   "cell_type": "code",
   "execution_count": 50,
   "id": "8560c763-2aa8-43ec-8ac2-342d2d8ea9cd",
   "metadata": {},
   "outputs": [
    {
     "data": {
      "text/plain": [
       "True"
      ]
     },
     "execution_count": 50,
     "metadata": {},
     "output_type": "execute_result"
    }
   ],
   "source": [
    "True or True"
   ]
  },
  {
   "cell_type": "code",
   "execution_count": 51,
   "id": "74065184-9a3b-4a4e-85e7-5f6fbebe6e48",
   "metadata": {},
   "outputs": [
    {
     "data": {
      "text/plain": [
       "False"
      ]
     },
     "execution_count": 51,
     "metadata": {},
     "output_type": "execute_result"
    }
   ],
   "source": [
    "False or False"
   ]
  },
  {
   "cell_type": "code",
   "execution_count": 52,
   "id": "8200db6f-765a-4d26-9c8d-1186093c1f75",
   "metadata": {},
   "outputs": [
    {
     "data": {
      "text/plain": [
       "True"
      ]
     },
     "execution_count": 52,
     "metadata": {},
     "output_type": "execute_result"
    }
   ],
   "source": [
    "False or True"
   ]
  },
  {
   "cell_type": "markdown",
   "id": "87b2028a-2be9-4c78-bdc9-b25a17ecf8e0",
   "metadata": {},
   "source": [
    "NOT Operator"
   ]
  },
  {
   "cell_type": "code",
   "execution_count": 61,
   "id": "4768ba45-2e47-4444-927a-d9a90a655684",
   "metadata": {},
   "outputs": [
    {
     "data": {
      "text/plain": [
       "False"
      ]
     },
     "execution_count": 61,
     "metadata": {},
     "output_type": "execute_result"
    }
   ],
   "source": [
    " not True"
   ]
  },
  {
   "cell_type": "code",
   "execution_count": 62,
   "id": "7364b287-7337-45df-88c8-7488a2a9a290",
   "metadata": {},
   "outputs": [
    {
     "data": {
      "text/plain": [
       "True"
      ]
     },
     "execution_count": 62,
     "metadata": {},
     "output_type": "execute_result"
    }
   ],
   "source": [
    "not False"
   ]
  },
  {
   "cell_type": "markdown",
   "id": "24e524df-1232-4780-8377-fbb999df9b5c",
   "metadata": {},
   "source": [
    "Type Casting"
   ]
  },
  {
   "cell_type": "code",
   "execution_count": 63,
   "id": "5c04aa92-2a5f-4c26-a435-5adc528e2708",
   "metadata": {},
   "outputs": [],
   "source": [
    "x='6'"
   ]
  },
  {
   "cell_type": "code",
   "execution_count": 64,
   "id": "c272dd62-9457-44de-9593-b8cc1905953f",
   "metadata": {},
   "outputs": [
    {
     "data": {
      "text/plain": [
       "str"
      ]
     },
     "execution_count": 64,
     "metadata": {},
     "output_type": "execute_result"
    }
   ],
   "source": [
    "type(x)"
   ]
  },
  {
   "cell_type": "code",
   "execution_count": 67,
   "id": "64af665b-cc39-466b-8eb3-1e7553109e44",
   "metadata": {},
   "outputs": [],
   "source": [
    "result = int(x)"
   ]
  },
  {
   "cell_type": "code",
   "execution_count": 68,
   "id": "e0a762ff-15ff-4b17-9951-eb89688a9782",
   "metadata": {},
   "outputs": [
    {
     "data": {
      "text/plain": [
       "6"
      ]
     },
     "execution_count": 68,
     "metadata": {},
     "output_type": "execute_result"
    }
   ],
   "source": [
    "result"
   ]
  },
  {
   "cell_type": "code",
   "execution_count": 69,
   "id": "775da7fe-3c89-4ad8-b333-4383dc332fc3",
   "metadata": {},
   "outputs": [
    {
     "data": {
      "text/plain": [
       "int"
      ]
     },
     "execution_count": 69,
     "metadata": {},
     "output_type": "execute_result"
    }
   ],
   "source": [
    "type(result)"
   ]
  },
  {
   "cell_type": "code",
   "execution_count": 70,
   "id": "d71cd138-a346-4a1e-82ab-00947cf0b161",
   "metadata": {},
   "outputs": [
    {
     "data": {
      "text/plain": [
       "6"
      ]
     },
     "execution_count": 70,
     "metadata": {},
     "output_type": "execute_result"
    }
   ],
   "source": [
    "int(x)"
   ]
  },
  {
   "cell_type": "code",
   "execution_count": 76,
   "id": "6a478661-0e0e-45f6-8c3d-c6d97e219bc4",
   "metadata": {},
   "outputs": [],
   "source": [
    "y=16.30"
   ]
  },
  {
   "cell_type": "code",
   "execution_count": 77,
   "id": "b89a50b3-ae57-476e-9d91-b6845cbff19e",
   "metadata": {},
   "outputs": [
    {
     "data": {
      "text/plain": [
       "float"
      ]
     },
     "execution_count": 77,
     "metadata": {},
     "output_type": "execute_result"
    }
   ],
   "source": [
    "type(y)"
   ]
  },
  {
   "cell_type": "code",
   "execution_count": 78,
   "id": "3a14f745-f672-4640-935c-4e0169329b62",
   "metadata": {},
   "outputs": [],
   "source": [
    "result=int(y)"
   ]
  },
  {
   "cell_type": "code",
   "execution_count": 79,
   "id": "131a49ba-0eaa-4c5d-ba48-0ca93a4057ad",
   "metadata": {},
   "outputs": [
    {
     "data": {
      "text/plain": [
       "16"
      ]
     },
     "execution_count": 79,
     "metadata": {},
     "output_type": "execute_result"
    }
   ],
   "source": [
    "result"
   ]
  },
  {
   "cell_type": "code",
   "execution_count": 75,
   "id": "a83caf01-2077-43c3-89f1-bea62b743a29",
   "metadata": {},
   "outputs": [
    {
     "data": {
      "text/plain": [
       "int"
      ]
     },
     "execution_count": 75,
     "metadata": {},
     "output_type": "execute_result"
    }
   ],
   "source": [
    "type(result)"
   ]
  },
  {
   "cell_type": "code",
   "execution_count": 80,
   "id": "b15678dc-4607-4742-b0cc-3ed7aae49de2",
   "metadata": {},
   "outputs": [],
   "source": [
    "a='python'"
   ]
  },
  {
   "cell_type": "code",
   "execution_count": 81,
   "id": "05c3a8f0-58c4-4d09-983e-de8f1452a2ca",
   "metadata": {},
   "outputs": [
    {
     "data": {
      "text/plain": [
       "str"
      ]
     },
     "execution_count": 81,
     "metadata": {},
     "output_type": "execute_result"
    }
   ],
   "source": [
    "type(a)"
   ]
  },
  {
   "cell_type": "code",
   "execution_count": 82,
   "id": "074329a4-1a21-40d1-863a-c5a75b140932",
   "metadata": {},
   "outputs": [],
   "source": [
    "result=str(a)"
   ]
  },
  {
   "cell_type": "code",
   "execution_count": 83,
   "id": "f801fbdd-c124-4667-b645-12aa7dfa0792",
   "metadata": {},
   "outputs": [
    {
     "data": {
      "text/plain": [
       "'python'"
      ]
     },
     "execution_count": 83,
     "metadata": {},
     "output_type": "execute_result"
    }
   ],
   "source": [
    "result"
   ]
  },
  {
   "cell_type": "code",
   "execution_count": 84,
   "id": "711bd019-4201-42ed-94c9-342dae9b3b60",
   "metadata": {},
   "outputs": [
    {
     "data": {
      "text/plain": [
       "str"
      ]
     },
     "execution_count": 84,
     "metadata": {},
     "output_type": "execute_result"
    }
   ],
   "source": [
    "type(result)"
   ]
  },
  {
   "cell_type": "code",
   "execution_count": 91,
   "id": "1a390839-6866-44a8-9ec0-651208b8403c",
   "metadata": {},
   "outputs": [],
   "source": [
    "b=55.5"
   ]
  },
  {
   "cell_type": "code",
   "execution_count": 92,
   "id": "f02d6502-b69f-4ff4-acea-867f1a53a4ec",
   "metadata": {},
   "outputs": [
    {
     "data": {
      "text/plain": [
       "float"
      ]
     },
     "execution_count": 92,
     "metadata": {},
     "output_type": "execute_result"
    }
   ],
   "source": [
    "type(b)"
   ]
  },
  {
   "cell_type": "code",
   "execution_count": 93,
   "id": "f05929c9-60ce-4732-99ab-5c3458cd95f0",
   "metadata": {},
   "outputs": [],
   "source": [
    "result=float(b)"
   ]
  },
  {
   "cell_type": "code",
   "execution_count": 94,
   "id": "d0beab94-e983-4122-b442-62ef43e1f730",
   "metadata": {},
   "outputs": [
    {
     "data": {
      "text/plain": [
       "55.5"
      ]
     },
     "execution_count": 94,
     "metadata": {},
     "output_type": "execute_result"
    }
   ],
   "source": [
    "result"
   ]
  },
  {
   "cell_type": "code",
   "execution_count": 95,
   "id": "93a06798-40a9-4d56-83ec-4e8347be768e",
   "metadata": {},
   "outputs": [
    {
     "data": {
      "text/plain": [
       "float"
      ]
     },
     "execution_count": 95,
     "metadata": {},
     "output_type": "execute_result"
    }
   ],
   "source": [
    "type(result)"
   ]
  },
  {
   "cell_type": "code",
   "execution_count": 96,
   "id": "3846f05e-56f0-483e-9faa-a9f953c01330",
   "metadata": {},
   "outputs": [
    {
     "data": {
      "text/plain": [
       "20"
      ]
     },
     "execution_count": 96,
     "metadata": {},
     "output_type": "execute_result"
    }
   ],
   "source": [
    "int(20.6)"
   ]
  },
  {
   "cell_type": "code",
   "execution_count": 99,
   "id": "f459663f-df85-4665-b0a9-8b96d0df8b7d",
   "metadata": {},
   "outputs": [
    {
     "data": {
      "text/plain": [
       "18.0"
      ]
     },
     "execution_count": 99,
     "metadata": {},
     "output_type": "execute_result"
    }
   ],
   "source": [
    "float(18)"
   ]
  },
  {
   "cell_type": "code",
   "execution_count": 100,
   "id": "bcc6c60d-95e4-4aa9-aa83-809dad90ab38",
   "metadata": {},
   "outputs": [
    {
     "data": {
      "text/plain": [
       "30"
      ]
     },
     "execution_count": 100,
     "metadata": {},
     "output_type": "execute_result"
    }
   ],
   "source": [
    "int(30.30)"
   ]
  },
  {
   "cell_type": "code",
   "execution_count": 101,
   "id": "1d97345e-e669-4eab-b661-f041065692d6",
   "metadata": {},
   "outputs": [
    {
     "data": {
      "text/plain": [
       "29.0"
      ]
     },
     "execution_count": 101,
     "metadata": {},
     "output_type": "execute_result"
    }
   ],
   "source": [
    "float(29)"
   ]
  },
  {
   "cell_type": "code",
   "execution_count": 102,
   "id": "7e0a9570-d69b-4fff-ba57-2e379ff46a4c",
   "metadata": {},
   "outputs": [],
   "source": [
    "s=29"
   ]
  },
  {
   "cell_type": "code",
   "execution_count": 103,
   "id": "32bf31a2-b096-4c07-bf79-6beb86184cba",
   "metadata": {},
   "outputs": [
    {
     "data": {
      "text/plain": [
       "'29'"
      ]
     },
     "execution_count": 103,
     "metadata": {},
     "output_type": "execute_result"
    }
   ],
   "source": [
    "str(s)"
   ]
  },
  {
   "cell_type": "code",
   "execution_count": 104,
   "id": "c40f1575-e05c-4be6-9146-82318e951efe",
   "metadata": {},
   "outputs": [],
   "source": [
    "b='hello'"
   ]
  },
  {
   "cell_type": "code",
   "execution_count": 106,
   "id": "ce15568a-1fa7-46d3-91f4-3bef9d680e43",
   "metadata": {},
   "outputs": [
    {
     "data": {
      "text/plain": [
       "'hello'"
      ]
     },
     "execution_count": 106,
     "metadata": {},
     "output_type": "execute_result"
    }
   ],
   "source": [
    "str(b)"
   ]
  },
  {
   "cell_type": "code",
   "execution_count": 107,
   "id": "2b743db6-5d8f-4f35-9f32-f733dee23109",
   "metadata": {},
   "outputs": [],
   "source": [
    "a=20"
   ]
  },
  {
   "cell_type": "code",
   "execution_count": 108,
   "id": "73141b92-f63a-4d63-86b7-2fb21071c0bc",
   "metadata": {},
   "outputs": [
    {
     "data": {
      "text/plain": [
       "20.0"
      ]
     },
     "execution_count": 108,
     "metadata": {},
     "output_type": "execute_result"
    }
   ],
   "source": [
    "float(a)"
   ]
  },
  {
   "cell_type": "code",
   "execution_count": 109,
   "id": "1cba87f0-f250-400d-b606-194f2a153a44",
   "metadata": {},
   "outputs": [],
   "source": [
    "x=26.20"
   ]
  },
  {
   "cell_type": "code",
   "execution_count": 110,
   "id": "986f1315-0cc4-4fb2-9d8d-86d009465568",
   "metadata": {},
   "outputs": [
    {
     "data": {
      "text/plain": [
       "26"
      ]
     },
     "execution_count": 110,
     "metadata": {},
     "output_type": "execute_result"
    }
   ],
   "source": [
    "int(x)"
   ]
  },
  {
   "cell_type": "code",
   "execution_count": null,
   "id": "e981d2a7-ae26-4847-93e3-89f2ab3549cf",
   "metadata": {},
   "outputs": [],
   "source": []
  }
 ],
 "metadata": {
  "kernelspec": {
   "display_name": "Python 3 (ipykernel)",
   "language": "python",
   "name": "python3"
  },
  "language_info": {
   "codemirror_mode": {
    "name": "ipython",
    "version": 3
   },
   "file_extension": ".py",
   "mimetype": "text/x-python",
   "name": "python",
   "nbconvert_exporter": "python",
   "pygments_lexer": "ipython3",
   "version": "3.12.7"
  }
 },
 "nbformat": 4,
 "nbformat_minor": 5
}
